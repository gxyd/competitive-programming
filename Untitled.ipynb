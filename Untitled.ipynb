{
 "cells": [
  {
   "cell_type": "code",
   "execution_count": null,
   "metadata": {
    "collapsed": true
   },
   "outputs": [],
   "source": [
    "def func0(string, char):\n",
    "    count = 0\n",
    "    for i, j in enumerate(string):\n",
    "        if j == char:\n",
    "            count += 1\n",
    "        q = i\n",
    "\n",
    "    t.extend([char]*count)\n",
    "\n",
    "    string = string[q+1:]\n",
    "    return string, count"
   ]
  }
 ],
 "metadata": {
  "kernelspec": {
   "display_name": "Python 3",
   "language": "python",
   "name": "python3"
  }
 },
 "nbformat": 4,
 "nbformat_minor": 2
}
